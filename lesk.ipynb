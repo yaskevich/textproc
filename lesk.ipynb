{
 "cells": [
  {
   "cell_type": "markdown",
   "metadata": {},
   "source": [
    "## Loading modules"
   ]
  },
  {
   "cell_type": "code",
   "execution_count": 4,
   "metadata": {},
   "outputs": [],
   "source": [
    "import codecs\n",
    "import random\n",
    "from nltk.tokenize import sent_tokenize, word_tokenize\n",
    "from nltk.tag import pos_tag\n",
    "from nltk.wsd import lesk\n",
    "from nltk.corpus import stopwords, wordnet as wn\n",
    "from nltk.stem import WordNetLemmatizer\n",
    "from pywsd.lesk import simple_lesk, original_lesk, cosine_lesk, adapted_lesk\n",
    "\n",
    "lemmatizer = WordNetLemmatizer()\n",
    "stops = set(stopwords.words('english'))\n",
    "puncts  = str.maketrans('','',\"\\'\\\":,?!.«»()\")"
   ]
  },
  {
   "cell_type": "markdown",
   "metadata": {},
   "source": [
    "### Helper functions"
   ]
  },
  {
   "cell_type": "code",
   "execution_count": 5,
   "metadata": {},
   "outputs": [],
   "source": [
    "def get_wordnet_pos(treebank_tag):\n",
    "    if treebank_tag.startswith('J'):\n",
    "        return wn.ADJ\n",
    "    elif treebank_tag.startswith('V'):\n",
    "        return wn.VERB\n",
    "    elif treebank_tag.startswith('N'):\n",
    "        return wn.NOUN\n",
    "    elif treebank_tag.startswith('R'):\n",
    "        return wn.ADV\n",
    "    else:\n",
    "        return ''"
   ]
  },
  {
   "cell_type": "code",
   "execution_count": 6,
   "metadata": {},
   "outputs": [],
   "source": [
    "def present(sent):\n",
    "    sent_tkn = word_tokenize(sent.translate(puncts))\n",
    "    tknz = pos_tag(sent_tkn)\n",
    "    # print(tknz)\n",
    "    presentation_sent = []\n",
    "    for a in tknz:\n",
    "        wpos = get_wordnet_pos(a[1])\n",
    "        # print(a, wpos)\n",
    "        if wpos:\n",
    "            lm = lemmatizer.lemmatize(a[0], pos=wpos).lower()\n",
    "            if lm not in stops:\n",
    "                # print(a[0], wpos)\n",
    "                presentation_sent.append({\"token\":a[0], \"pos\": a[1], \"lemma\": lm, \"wpos\": wpos})\n",
    "    return presentation_sent"
   ]
  },
  {
   "cell_type": "markdown",
   "metadata": {},
   "source": [
    "## My implemenatation of Lesk algorithm"
   ]
  },
  {
   "cell_type": "code",
   "execution_count": 7,
   "metadata": {},
   "outputs": [],
   "source": [
    "def custom_lesk(word, sent, examples=False):\n",
    "    bestsense = None\n",
    "    prsent = present(sent)\n",
    "    maxoverlap = 0\n",
    "    w=wn.morphy(word) if wn.morphy(word) is not None else word\n",
    "    prw = {}\n",
    "    for i in prsent:\n",
    "        if i[\"lemma\"] == word:\n",
    "            prw = i\n",
    "            prsent.remove(i)\n",
    "    \n",
    "    flatprsent = [a[\"lemma\"] for a in prsent]    \n",
    "    results  = {}\n",
    "    allsyn = []\n",
    "    rels  = {}\n",
    "    for ss in wn.synsets(w):\n",
    "        if ss.pos() == prw[\"wpos\"]:\n",
    "            allsyn.append(ss)\n",
    "            defprsent  = present(ss.definition())\n",
    "            flatdefprsent = [a[\"lemma\"] for a in defprsent]\n",
    "            if examples:\n",
    "                for ex in ss.examples():\n",
    "                    flatex = [a[\"lemma\"] for a in present(ex)]\n",
    "                    flatdefprsent.extend(flatex)\n",
    "            rels[ss] = [flatprsent, flatdefprsent]\n",
    "            results[ss]  = len(set(flatprsent) & set(flatdefprsent))            \n",
    "    best  = max(results, key=results.get)\n",
    "    return [best if best else allsyn[0], results[best], rels[best]]"
   ]
  },
  {
   "cell_type": "markdown",
   "metadata": {},
   "source": [
    "## Minimal test"
   ]
  },
  {
   "cell_type": "code",
   "execution_count": 8,
   "metadata": {},
   "outputs": [],
   "source": [
    "rr  = custom_lesk(\"key\", \"A man locked the door with a key.\")"
   ]
  },
  {
   "cell_type": "code",
   "execution_count": 9,
   "metadata": {},
   "outputs": [
    {
     "data": {
      "text/plain": [
       "[Synset('key.n.01'),\n",
       " 1,\n",
       " [['man', 'lock', 'door'],\n",
       "  ['metal',\n",
       "   'device',\n",
       "   'shape',\n",
       "   'way',\n",
       "   'insert',\n",
       "   'appropriate',\n",
       "   'lock',\n",
       "   'lock',\n",
       "   'mechanism',\n",
       "   'rotate']]]"
      ]
     },
     "execution_count": 9,
     "metadata": {},
     "output_type": "execute_result"
    }
   ],
   "source": [
    "rr"
   ]
  },
  {
   "cell_type": "code",
   "execution_count": 10,
   "metadata": {},
   "outputs": [
    {
     "data": {
      "text/plain": [
       "\"metal device shaped in such a way that when it is inserted into the appropriate lock the lock's mechanism can be rotated\""
      ]
     },
     "execution_count": 10,
     "metadata": {},
     "output_type": "execute_result"
    }
   ],
   "source": [
    "rr[0].definition()"
   ]
  },
  {
   "cell_type": "markdown",
   "metadata": {},
   "source": [
    "### Evaluation"
   ]
  },
  {
   "cell_type": "markdown",
   "metadata": {},
   "source": [
    "It seems to work on an arbitrary example."
   ]
  },
  {
   "cell_type": "markdown",
   "metadata": {},
   "source": [
    "## Processing corpus"
   ]
  },
  {
   "cell_type": "code",
   "execution_count": 11,
   "metadata": {},
   "outputs": [],
   "source": [
    "with open('corpus_eng.txt', 'r', encoding='utf-8') as f:\n",
    "    lines = f.read().splitlines()\n",
    "allbreaks = []\n",
    "for line in lines:\n",
    "    for sent in sent_tokenize(line):\n",
    "        if \"break\" in sent:\n",
    "            tokenized = word_tokenize(sent)\n",
    "            if \"break\" in tokenized:\n",
    "                allbreaks.append(sent)\n",
    "somebreaks = random.sample(allbreaks, 10)"
   ]
  },
  {
   "cell_type": "code",
   "execution_count": 12,
   "metadata": {},
   "outputs": [
    {
     "data": {
      "text/plain": [
       "['On Monday’s Dancing with the Stars , Olympic gymnast Laurie Hernandez took a break from her rehearsal schedule to visit her ailing grandmother.',\n",
       " 'The first was during the Question Time that came live from Wembley, when she interrupted some military posturing by Boris to sniff: “ I think I’m the only one on this panel who’s ever worn the Queen’s uniform.” The next saw her decline to even break stride as a reporter asked her about Boris crashing out of the race to succeed David Cameron, only smiling lightly that, “Leadership is hard.',\n",
       " \"To properly remove the stain if the mineral content in water is not an issue, pretreat the sunscreen stain with a with a prewash stain remover spray or gel like Zout or Shout or Spray 'n Wash or a bit of heavy duty liquid detergent ( Wisk , Tide or Persil are rated as the best brands with enough enzymes to break apart the oily component of the stain) or make a paste with powder detergent/water.\",\n",
       " 'After he and his mother fled their home state, pursuing US Marshals got their break after one of the Couch’s cell phones was used to order a Domino’s pizza.',\n",
       " \"Tobey's mother, Joyce Mitchell, helped Richard Matt and David Sweat break out of New York's maximum security Clinton Correctional Facility last year.\",\n",
       " \"Ravens at Cowboys: Dak Prescott has the reins, but Ezekiel Elliott will have to find a way to break through against the Ravens' top-ranked rushing defense.\",\n",
       " 'The Argentine then conjured up a pair of break points at 4-3 with a miscued forehand from Cilic paving the way for Del Potro to complete a stunning fightback -- his first ever from two sets down -- in four hours and 53 minutes.',\n",
       " \"Al-Yousef said Fastaqim arrested one of its commanders during battle preparations in Aleppo after a rebel offensive launched last week to break the government's siege of the city's rebel neighborhoods.\",\n",
       " \"A few hours after taking a break from promotional duties with Iris, Redmayne chatted in a downtown Manhattan hotel about his headlong dive into Rowling's empire, the film's multicultural message and just how many movies he's gotten himself into.\",\n",
       " \"If that fails then it's time to break out your nut tool , which are also made to use on stuck cams as well as nuts.\"]"
      ]
     },
     "execution_count": 12,
     "metadata": {},
     "output_type": "execute_result"
    }
   ],
   "source": [
    "somebreaks"
   ]
  },
  {
   "cell_type": "code",
   "execution_count": 13,
   "metadata": {},
   "outputs": [],
   "source": [
    "keyword = \"break\""
   ]
  },
  {
   "cell_type": "code",
   "execution_count": 21,
   "metadata": {},
   "outputs": [
    {
     "name": "stdout",
     "output_type": "stream",
     "text": [
      "#1\n",
      "On Monday’s Dancing with the Stars , Olympic gymnast Laurie Hernandez took a break from her rehearsal schedule to visit her ailing grandmother.\n",
      "Lesk NLTK: Synset('rupture.n.02') a personal or social separation (as between opposing factions)\n",
      "Tan Orig: Synset('fault.n.04') (geology) a crack in the earth's crust resulting from the displacement of one side with respect to the other\n",
      "Tan Simple: Synset('respite.n.02') a pause from doing something (as work)\n",
      "Tan Cos: Synset('respite.n.02') a pause from doing something (as work)\n",
      "Tan Adapt: Synset('respite.n.02') a pause from doing something (as work)\n",
      "Custom: Synset('interruption.n.02') some abrupt occurrence that interrupts an ongoing activity\n",
      "rate 0 data: [['monday', '’', 'dancing', 'stars', 'olympic', 'gymnast', 'laurie', 'hernandez', 'take', 'rehearsal', 'schedule', 'visit', 'ail', 'grandmother'], ['abrupt', 'occurrence', 'interrupt', 'ongoing', 'activity']]\n",
      "Custom+Examples: Synset('respite.n.02') a pause from doing something (as work)\n",
      "rate 1 data: [['monday', '’', 'dancing', 'stars', 'olympic', 'gymnast', 'laurie', 'hernandez', 'take', 'rehearsal', 'schedule', 'visit', 'ail', 'grandmother'], ['pause', 'something', 'work', 'take', '10-minute', 'break', 'take', 'time', 'recuperate']]\n",
      "----------------------------------------------------------------------------------------------------\n",
      "#2\n",
      "The first was during the Question Time that came live from Wembley, when she interrupted some military posturing by Boris to sniff: “ I think I’m the only one on this panel who’s ever worn the Queen’s uniform.” The next saw her decline to even break stride as a reporter asked her about Boris crashing out of the race to succeed David Cameron, only smiling lightly that, “Leadership is hard.\n",
      "Lesk NLTK: Synset('unwrap.v.02') make known to the public information that was previously known only to a few people or that was meant to be kept a secret\n",
      "Tan Orig: Synset('fault.n.04') (geology) a crack in the earth's crust resulting from the displacement of one side with respect to the other\n",
      "Tan Simple: Synset('break.v.27') come forth or begin from a state of latency\n",
      "Tan Cos: Synset('unwrap.v.02') make known to the public information that was previously known only to a few people or that was meant to be kept a secret\n",
      "Tan Adapt: Synset('break.v.27') come forth or begin from a state of latency\n",
      "Custom: Synset('break.v.16') come into being\n",
      "rate 1 data: [['first', 'question', 'time', 'come', 'live', 'wembley', 'interrupt', 'military', 'posturing', 'boris', 'sniff', '“', 'think', '’', 'one', 'panel', '’', 'ever', 'wear', 'queen', '’', 'uniform', 'next', 'saw', 'decline', 'even', 'stride', 'reporter', 'ask', 'boris', 'crash', 'race', 'succeed', 'david', 'cameron', 'smile', 'lightly', '“', 'leadership', 'hard'], ['come']]\n",
      "Custom+Examples: Synset('break.v.27') come forth or begin from a state of latency\n",
      "rate 2 data: [['first', 'question', 'time', 'come', 'live', 'wembley', 'interrupt', 'military', 'posturing', 'boris', 'sniff', '“', 'think', '’', 'one', 'panel', '’', 'ever', 'wear', 'queen', '’', 'uniform', 'next', 'saw', 'decline', 'even', 'stride', 'reporter', 'ask', 'boris', 'crash', 'race', 'succeed', 'david', 'cameron', 'smile', 'lightly', '“', 'leadership', 'hard'], ['come', 'forth', 'begin', 'state', 'latency', 'first', 'winter', 'storm', 'break', 'new', 'york']]\n",
      "----------------------------------------------------------------------------------------------------\n",
      "#3\n",
      "To properly remove the stain if the mineral content in water is not an issue, pretreat the sunscreen stain with a with a prewash stain remover spray or gel like Zout or Shout or Spray 'n Wash or a bit of heavy duty liquid detergent ( Wisk , Tide or Persil are rated as the best brands with enough enzymes to break apart the oily component of the stain) or make a paste with powder detergent/water.\n",
      "Lesk NLTK: Synset('unwrap.v.02') make known to the public information that was previously known only to a few people or that was meant to be kept a secret\n",
      "Tan Orig: Synset('break_in.v.01') enter someone's (virtual or real) property in an unauthorized manner, usually with the intent to steal or commit a violent act\n",
      "Tan Simple: Synset('unwrap.v.02') make known to the public information that was previously known only to a few people or that was meant to be kept a secret\n",
      "Tan Cos: Synset('violate.v.01') fail to agree with; be in violation of; as of rules or patterns\n",
      "Tan Adapt: Synset('unwrap.v.02') make known to the public information that was previously known only to a few people or that was meant to be kept a secret\n",
      "Custom: Synset('break_in.v.06') make submissive, obedient, or useful\n",
      "rate 1 data: [['properly', 'remove', 'stain', 'mineral', 'content', 'water', 'issue', 'pretreat', 'sunscreen', 'stain', 'prewash', 'stain', 'remover', 'spray', 'gel', 'zout', 'shout', 'spray', 'n', 'wash', 'bit', 'heavy', 'duty', 'liquid', 'detergent', 'wisk', 'tide', 'persil', 'rat', 'best', 'brand', 'enough', 'enzyme', 'apart', 'oily', 'component', 'stain', 'make', 'paste', 'powder', 'detergent/water'], ['make', 'submissive', 'obedient', 'useful']]\n",
      "Custom+Examples: Synset('break.v.02') become separated into pieces or fragments\n",
      "rate 1 data: [['properly', 'remove', 'stain', 'mineral', 'content', 'water', 'issue', 'pretreat', 'sunscreen', 'stain', 'prewash', 'stain', 'remover', 'spray', 'gel', 'zout', 'shout', 'spray', 'n', 'wash', 'bit', 'heavy', 'duty', 'liquid', 'detergent', 'wisk', 'tide', 'persil', 'rat', 'best', 'brand', 'enough', 'enzyme', 'apart', 'oily', 'component', 'stain', 'make', 'paste', 'powder', 'detergent/water'], ['become', 'separate', 'piece', 'fragment', 'figurine', 'break', 'freshly', 'bake', 'loaf', 'fell', 'apart']]\n",
      "----------------------------------------------------------------------------------------------------\n",
      "#4\n",
      "After he and his mother fled their home state, pursuing US Marshals got their break after one of the Couch’s cell phones was used to order a Domino’s pizza.\n",
      "Lesk NLTK: Synset('rupture.n.02') a personal or social separation (as between opposing factions)\n",
      "Tan Orig: Synset('fault.n.04') (geology) a crack in the earth's crust resulting from the displacement of one side with respect to the other\n",
      "Tan Simple: Synset('fault.n.04') (geology) a crack in the earth's crust resulting from the displacement of one side with respect to the other\n",
      "Tan Cos: Synset('break.n.12') (tennis) a score consisting of winning a game when your opponent was serving\n",
      "Tan Adapt: Synset('fault.n.04') (geology) a crack in the earth's crust resulting from the displacement of one side with respect to the other\n",
      "Custom: Synset('interruption.n.02') some abrupt occurrence that interrupts an ongoing activity\n",
      "rate 0 data: [['mother', 'flee', 'home', 'state', 'pursue', 'marshals', 'get', 'couch', '’', 'cell', 'phone', 'use', 'order', 'domino', '’', 'pizza'], ['abrupt', 'occurrence', 'interrupt', 'ongoing', 'activity']]\n",
      "Custom+Examples: Synset('break.n.02') an unexpected piece of good luck\n",
      "rate 1 data: [['mother', 'flee', 'home', 'state', 'pursue', 'marshals', 'get', 'couch', '’', 'cell', 'phone', 'use', 'order', 'domino', '’', 'pizza'], ['unexpected', 'piece', 'good', 'luck', 'finally', 'get', 'big', 'break']]\n",
      "----------------------------------------------------------------------------------------------------\n",
      "#5\n",
      "Tobey's mother, Joyce Mitchell, helped Richard Matt and David Sweat break out of New York's maximum security Clinton Correctional Facility last year.\n",
      "Lesk NLTK: Synset('unwrap.v.02') make known to the public information that was previously known only to a few people or that was meant to be kept a secret\n",
      "Tan Orig: Synset('break.v.09') force out or release suddenly and often violently something pent up\n",
      "Tan Simple: Synset('break.v.27') come forth or begin from a state of latency\n",
      "Tan Cos: Synset('break.v.51') find the solution or key to\n",
      "Tan Adapt: Synset('break.v.27') come forth or begin from a state of latency\n",
      "Custom: Synset('interrupt.v.04') terminate\n",
      "rate 0 data: [['tobeys', 'joyce', 'mitchell', 'help', 'richard', 'matt', 'david', 'sweat', 'new', 'yorks', 'maximum', 'security', 'clinton', 'correctional', 'facility', 'last', 'year'], ['terminate']]\n",
      "Custom+Examples: Synset('break.v.07') move away or escape suddenly\n",
      "rate 1 data: [['tobeys', 'joyce', 'mitchell', 'help', 'richard', 'matt', 'david', 'sweat', 'new', 'yorks', 'maximum', 'security', 'clinton', 'correctional', 'facility', 'last', 'year'], ['move', 'away', 'escape', 'suddenly', 'horse', 'break', 'stable', 'inmate', 'break', 'jail', 'nobody', 'break', 'prison', 'high', 'security']]\n",
      "----------------------------------------------------------------------------------------------------\n"
     ]
    },
    {
     "name": "stdout",
     "output_type": "stream",
     "text": [
      "#6\n",
      "Ravens at Cowboys: Dak Prescott has the reins, but Ezekiel Elliott will have to find a way to break through against the Ravens' top-ranked rushing defense.\n",
      "Lesk NLTK: Synset('unwrap.v.02') make known to the public information that was previously known only to a few people or that was meant to be kept a secret\n",
      "Tan Orig: Synset('fault.n.04') (geology) a crack in the earth's crust resulting from the displacement of one side with respect to the other\n",
      "Tan Simple: Synset('separate.v.08') discontinue an association or relation; go different ways\n",
      "Tan Cos: Synset('break_dance.v.01') do a break dance\n",
      "Tan Adapt: Synset('separate.v.08') discontinue an association or relation; go different ways\n",
      "Custom: Synset('separate.v.08') discontinue an association or relation; go different ways\n",
      "rate 1 data: [['ravens', 'cowboys', 'dak', 'prescott', 'rein', 'ezekiel', 'elliott', 'find', 'way', 'ravens', 'top-ranked', 'rushing', 'defense'], ['discontinue', 'association', 'relation', 'go', 'different', 'way']]\n",
      "Custom+Examples: Synset('fail.v.04') stop operating or functioning\n",
      "rate 1 data: [['ravens', 'cowboys', 'dak', 'prescott', 'rein', 'ezekiel', 'elliott', 'find', 'way', 'ravens', 'top-ranked', 'rushing', 'defense'], ['stop', 'operating', 'functioning', 'engine', 'finally', 'go', 'car', 'die', 'road', 'bus', 'travel', 'break', 'way', 'town', 'coffee', 'maker', 'break', 'engine', 'fail', 'way', 'town', 'eyesight', 'go', 'accident']]\n",
      "----------------------------------------------------------------------------------------------------\n",
      "#7\n",
      "The Argentine then conjured up a pair of break points at 4-3 with a miscued forehand from Cilic paving the way for Del Potro to complete a stunning fightback -- his first ever from two sets down -- in four hours and 53 minutes.\n",
      "Lesk NLTK: Synset('rupture.n.02') a personal or social separation (as between opposing factions)\n",
      "Tan Orig: Synset('fault.n.04') (geology) a crack in the earth's crust resulting from the displacement of one side with respect to the other\n",
      "Tan Simple: Synset('break.n.12') (tennis) a score consisting of winning a game when your opponent was serving\n",
      "Tan Cos: Synset('break.n.12') (tennis) a score consisting of winning a game when your opponent was serving\n",
      "Tan Adapt: Synset('break.n.12') (tennis) a score consisting of winning a game when your opponent was serving\n",
      "Custom: Synset('interruption.n.02') some abrupt occurrence that interrupts an ongoing activity\n",
      "rate 0 data: [['argentine', 'conjure', 'pair', 'point', '4-3', 'miscued', 'forehand', 'cilic', 'pave', 'way', 'del', 'potro', 'complete', 'stunning', 'fightback', 'first', 'ever', 'set', 'hour', 'minute'], ['abrupt', 'occurrence', 'interrupt', 'ongoing', 'activity']]\n",
      "Custom+Examples: Synset('break.n.12') (tennis) a score consisting of winning a game when your opponent was serving\n",
      "rate 1 data: [['argentine', 'conjure', 'pair', 'point', '4-3', 'miscued', 'forehand', 'cilic', 'pave', 'way', 'del', 'potro', 'complete', 'stunning', 'fightback', 'first', 'ever', 'set', 'hour', 'minute'], ['tennis', 'score', 'consisting', 'win', 'game', 'opponent', 'serve', 'break', 'second', 'set']]\n",
      "----------------------------------------------------------------------------------------------------\n",
      "#8\n",
      "Al-Yousef said Fastaqim arrested one of its commanders during battle preparations in Aleppo after a rebel offensive launched last week to break the government's siege of the city's rebel neighborhoods.\n",
      "Lesk NLTK: Synset('unwrap.v.02') make known to the public information that was previously known only to a few people or that was meant to be kept a secret\n",
      "Tan Orig: Synset('fault.n.04') (geology) a crack in the earth's crust resulting from the displacement of one side with respect to the other\n",
      "Tan Simple: Synset('break_in.v.01') enter someone's (virtual or real) property in an unauthorized manner, usually with the intent to steal or commit a violent act\n",
      "Tan Cos: Synset('violate.v.01') fail to agree with; be in violation of; as of rules or patterns\n",
      "Tan Adapt: Synset('break_in.v.01') enter someone's (virtual or real) property in an unauthorized manner, usually with the intent to steal or commit a violent act\n",
      "Custom: Synset('interrupt.v.04') terminate\n",
      "rate 0 data: [['al-yousef', 'say', 'fastaqim', 'arrest', 'commander', 'battle', 'preparation', 'aleppo', 'rebel', 'offensive', 'launch', 'last', 'week', 'government', 'siege', 'city', 'rebel', 'neighborhood'], ['terminate']]\n",
      "Custom+Examples: Synset('break_in.v.01') enter someone's (virtual or real) property in an unauthorized manner, usually with the intent to steal or commit a violent act\n",
      "rate 1 data: [['al-yousef', 'say', 'fastaqim', 'arrest', 'commander', 'battle', 'preparation', 'aleppo', 'rebel', 'offensive', 'launch', 'last', 'week', 'government', 'siege', 'city', 'rebel', 'neighborhood'], ['enter', 'someone', 'virtual', 'real', 'property', 'unauthorized', 'manner', 'usually', 'intent', 'steal', 'commit', 'violent', 'act', 'someone', 'break', 'vacation', 'break', 'car', 'steal', 'radio', 'break', 'account', 'last', 'night']]\n",
      "----------------------------------------------------------------------------------------------------\n",
      "#9\n",
      "A few hours after taking a break from promotional duties with Iris, Redmayne chatted in a downtown Manhattan hotel about his headlong dive into Rowling's empire, the film's multicultural message and just how many movies he's gotten himself into.\n",
      "Lesk NLTK: Synset('rupture.n.02') a personal or social separation (as between opposing factions)\n",
      "Tan Orig: Synset('fault.n.04') (geology) a crack in the earth's crust resulting from the displacement of one side with respect to the other\n",
      "Tan Simple: Synset('respite.n.02') a pause from doing something (as work)\n",
      "Tan Cos: Synset('respite.n.02') a pause from doing something (as work)\n",
      "Tan Adapt: Synset('respite.n.02') a pause from doing something (as work)\n",
      "Custom: Synset('interruption.n.02') some abrupt occurrence that interrupts an ongoing activity\n",
      "rate 0 data: [['hour', 'take', 'promotional', 'duty', 'iris', 'redmayne', 'chat', 'downtown', 'manhattan', 'hotel', 'headlong', 'dive', 'rowlings', 'empire', 'film', 'multicultural', 'message', 'many', 'movie', 'get'], ['abrupt', 'occurrence', 'interrupt', 'ongoing', 'activity']]\n",
      "Custom+Examples: Synset('break.n.02') an unexpected piece of good luck\n",
      "rate 1 data: [['hour', 'take', 'promotional', 'duty', 'iris', 'redmayne', 'chat', 'downtown', 'manhattan', 'hotel', 'headlong', 'dive', 'rowlings', 'empire', 'film', 'multicultural', 'message', 'many', 'movie', 'get'], ['unexpected', 'piece', 'good', 'luck', 'finally', 'get', 'big', 'break']]\n",
      "----------------------------------------------------------------------------------------------------\n",
      "#10\n",
      "If that fails then it's time to break out your nut tool , which are also made to use on stuck cams as well as nuts.\n",
      "Lesk NLTK: Synset('unwrap.v.02') make known to the public information that was previously known only to a few people or that was meant to be kept a secret\n",
      "Tan Orig: Synset('open_frame.n.01') any frame in which a bowler fails to make a strike or spare\n",
      "Tan Simple: Synset('violate.v.01') fail to agree with; be in violation of; as of rules or patterns\n",
      "Tan Cos: Synset('break_in.v.06') make submissive, obedient, or useful\n",
      "Tan Adapt: Synset('violate.v.01') fail to agree with; be in violation of; as of rules or patterns\n",
      "Custom: Synset('break_in.v.06') make submissive, obedient, or useful\n",
      "rate 1 data: [['fail', 'time', 'nut', 'tool', 'also', 'make', 'use', 'stuck', 'cam', 'well', 'nut'], ['make', 'submissive', 'obedient', 'useful']]\n",
      "Custom+Examples: Synset('break_in.v.06') make submissive, obedient, or useful\n",
      "rate 1 data: [['fail', 'time', 'nut', 'tool', 'also', 'make', 'use', 'stuck', 'cam', 'well', 'nut'], ['make', 'submissive', 'obedient', 'useful', 'horse', 'tough', 'break', 'break', 'new', 'intern']]\n",
      "----------------------------------------------------------------------------------------------------\n"
     ]
    }
   ],
   "source": [
    "for index, sent in enumerate(somebreaks):    \n",
    "    tokenized = word_tokenize(sent)\n",
    "    tagged = pos_tag(tokenized)\n",
    "    for tag in tagged:\n",
    "        if tag[0] == keyword:\n",
    "            wpos = get_wordnet_pos(tag[1])\n",
    "            ss  = lesk(sent, 'break', wpos)\n",
    "            tan_ol = original_lesk(sent, 'break')\n",
    "            tan_sl = simple_lesk(sent, 'break', pos=wpos)\n",
    "            tan_cl = cosine_lesk(sent, 'break', pos=wpos)\n",
    "            tan_al = adapted_lesk(sent, 'break', pos=wpos)\n",
    "            [cl, rate, dbg]  = custom_lesk(keyword, sent)\n",
    "            [cl2, rate2, dbg2]  = custom_lesk(keyword, sent, examples=True)\n",
    "            \n",
    "            print(\"#\"+str(index+1))\n",
    "            print(sent)\n",
    "            print(\"Lesk NLTK:\", ss, ss.definition())\n",
    "            print(\"Tan Orig:\", tan_ol, tan_ol.definition())\n",
    "            print(\"Tan Simple:\", tan_sl, tan_sl.definition())\n",
    "            print(\"Tan Cos:\", tan_cl, tan_cl.definition())\n",
    "            print(\"Tan Adapt:\", tan_al, tan_al.definition())\n",
    "            print(\"Custom:\", cl, cl.definition())\n",
    "            print(\"rate\", rate, \"data:\", dbg)\n",
    "            print(\"Custom+Examples:\", cl2, cl2.definition())\n",
    "            print(\"rate\", rate2, \"data:\", dbg2)\n",
    "            print(\"-\"*100)"
   ]
  },
  {
   "cell_type": "markdown",
   "metadata": {},
   "source": [
    "## Discussion"
   ]
  },
  {
   "cell_type": "markdown",
   "metadata": {},
   "source": [
    "### 1\n",
    "`On Monday’s Dancing with the Stars , Olympic gymnast Laurie Hernandez took a break from her rehearsal schedule to visit her ailing grandmother.\n",
    "Lesk NLTK: Synset('rupture.n.02') a personal or social separation (as between opposing factions)\n",
    "Tan Orig: Synset('fault.n.04') (geology) a crack in the earth's crust resulting from the displacement of one side with respect to the other\n",
    "Tan Simple: Synset('respite.n.02') a pause from doing something (as work)\n",
    "Tan Cos: Synset('respite.n.02') a pause from doing something (as work)\n",
    "Tan Adapt: Synset('respite.n.02') a pause from doing something (as work)\n",
    "Custom: Synset('interruption.n.02') some abrupt occurrence that interrupts an ongoing activity\n",
    "rate 0 data: [['monday', '’', 'dancing', 'stars', 'olympic', 'gymnast', 'laurie', 'hernandez', 'take', 'rehearsal', 'schedule', 'visit', 'ail', 'grandmother'], ['abrupt', 'occurrence', 'interrupt', 'ongoing', 'activity']]\n",
    "Custom+Examples: Synset('respite.n.02') a pause from doing something (as work)\n",
    "rate 1 data: [['monday', '’', 'dancing', 'stars', 'olympic', 'gymnast', 'laurie', 'hernandez', 'take', 'rehearsal', 'schedule', 'visit', 'ail', 'grandmother'], ['pause', 'something', 'work', 'take', '10-minute', 'break', 'take', 'time', 'recuperate']]`\n",
    "**Generic NLTK fails, most of Tan's methods succeeds.  \n",
    "My implemementations:  \n",
    "definition fails   \n",
    "definition + examples succeeds, because of \"take\"**\n",
    "### 2\n",
    "`The first was during the Question Time that came live from Wembley, when she interrupted some military posturing by Boris to sniff: “ I think I’m the only one on this panel who’s ever worn the Queen’s uniform.” The next saw her decline to even break stride as a reporter asked her about Boris crashing out of the race to succeed David Cameron, only smiling lightly that, “Leadership is hard.\n",
    "Lesk NLTK: Synset('unwrap.v.02') make known to the public information that was previously known only to a few people or that was meant to be kept a secret\n",
    "Tan Orig: Synset('fault.n.04') (geology) a crack in the earth's crust resulting from the displacement of one side with respect to the other\n",
    "Tan Simple: Synset('break.v.27') come forth or begin from a state of latency\n",
    "Tan Cos: Synset('unwrap.v.02') make known to the public information that was previously known only to a few people or that was meant to be kept a secret\n",
    "Tan Adapt: Synset('break.v.27') come forth or begin from a state of latency\n",
    "Custom: Synset('break.v.16') come into being\n",
    "rate 1 data: [['first', 'question', 'time', 'come', 'live', 'wembley', 'interrupt', 'military', 'posturing', 'boris', 'sniff', '“', 'think', '’', 'one', 'panel', '’', 'ever', 'wear', 'queen', '’', 'uniform', 'next', 'saw', 'decline', 'even', 'stride', 'reporter', 'ask', 'boris', 'crash', 'race', 'succeed', 'david', 'cameron', 'smile', 'lightly', '“', 'leadership', 'hard'], ['come']]\n",
    "Custom+Examples: Synset('break.v.27') come forth or begin from a state of latency   \n",
    "rate 2 data: [['first', 'question', 'time', 'come', 'live', 'wembley', 'interrupt', 'military', 'posturing', 'boris', 'sniff', '“', 'think', '’', 'one', 'panel', '’', 'ever', 'wear', 'queen', '’', 'uniform', 'next', 'saw', 'decline', 'even', 'stride', 'reporter', 'ask', 'boris', 'crash', 'race', 'succeed', 'david', 'cameron', 'smile', 'lightly', '“', 'leadership', 'hard'], ['come', 'forth', 'begin', 'state', 'latency', 'first', 'winter', 'storm', 'break', 'new', 'york']]`\n",
    "\n",
    "**It must be Synset('interrupt.v.04'), everything fails.   \n",
    "My implemementations: definition fails, definition + examples fails, common words were \"first\" and \"come\", which is meaningless.  Also NLTK sentence splitter worked badly, that didn't come in useful as well.**\n",
    "\n",
    "### 3\n",
    "`To properly remove the stain if the mineral content in water is not an issue, pretreat the sunscreen stain with a with a prewash stain remover spray or gel like Zout or Shout or Spray 'n Wash or a bit of heavy duty liquid detergent ( Wisk , Tide or Persil are rated as the best brands with enough enzymes to break apart the oily component of the stain) or make a paste with powder detergent/water.\n",
    "Lesk NLTK: Synset('unwrap.v.02') make known to the public information that was previously known only to a few people or that was meant to be kept a secret\n",
    "Tan Orig: Synset('break_in.v.01') enter someone's (virtual or real) property in an unauthorized manner, usually with the intent to steal or commit a violent act\n",
    "Tan Simple: Synset('unwrap.v.02') make known to the public information that was previously known only to a few people or that was meant to be kept a secret\n",
    "Tan Cos: Synset('violate.v.01') fail to agree with; be in violation of; as of rules or patterns\n",
    "Tan Adapt: Synset('unwrap.v.02') make known to the public information that was previously known only to a few people or that was meant to be kept a secret\n",
    "Custom: Synset('break_in.v.06') make submissive, obedient, or useful\n",
    "rate 1 data: [['properly', 'remove', 'stain', 'mineral', 'content', 'water', 'issue', 'pretreat', 'sunscreen', 'stain', 'prewash', 'stain', 'remover', 'spray', 'gel', 'zout', 'shout', 'spray', 'n', 'wash', 'bit', 'heavy', 'duty', 'liquid', 'detergent', 'wisk', 'tide', 'persil', 'rat', 'best', 'brand', 'enough', 'enzyme', 'apart', 'oily', 'component', 'stain', 'make', 'paste', 'powder', 'detergent/water'], ['make', 'submissive', 'obedient', 'useful']]\n",
    "Custom+Examples: Synset('break.v.02') become separated into pieces or fragments\n",
    "rate 1 data: [['properly', 'remove', 'stain', 'mineral', 'content', 'water', 'issue', 'pretreat', 'sunscreen', 'stain', 'prewash', 'stain', 'remover', 'spray', 'gel', 'zout', 'shout', 'spray', 'n', 'wash', 'bit', 'heavy', 'duty', 'liquid', 'detergent', 'wisk', 'tide', 'persil', 'rat', 'best', 'brand', 'enough', 'enzyme', 'apart', 'oily', 'component', 'stain', 'make', 'paste', 'powder', 'detergent/water'], ['become', 'separate', 'piece', 'fragment', 'figurine', 'break', 'freshly', 'bake', 'loaf', 'fell', 'apart']]`\n",
    "\n",
    "**It should be Synset('break.v.05'). Everything fails, however my def+examples was closer than other, because of \"apart\". \n",
    "One could say, it reflects issues of description of the lexeme in Wordnet.**\n",
    "\n",
    "### 4\n",
    "`After he and his mother fled their home state, pursuing US Marshals got their break after one of the Couch’s cell phones was used to order a Domino’s pizza.\n",
    "Lesk NLTK: Synset('rupture.n.02') a personal or social separation (as between opposing factions)\n",
    "Tan Orig: Synset('fault.n.04') (geology) a crack in the earth's crust resulting from the displacement of one side with respect to the other\n",
    "Tan Simple: Synset('fault.n.04') (geology) a crack in the earth's crust resulting from the displacement of one side with respect to the other\n",
    "Tan Cos: Synset('break.n.12') (tennis) a score consisting of winning a game when your opponent was serving\n",
    "Tan Adapt: Synset('fault.n.04') (geology) a crack in the earth's crust resulting from the displacement of one side with respect to the other\n",
    "Custom: Synset('interruption.n.02') some abrupt occurrence that interrupts an ongoing activity\n",
    "rate 0 data: [['mother', 'flee', 'home', 'state', 'pursue', 'marshals', 'get', 'couch', '’', 'cell', 'phone', 'use', 'order', 'domino', '’', 'pizza'], ['abrupt', 'occurrence', 'interrupt', 'ongoing', 'activity']]\n",
    "Custom+Examples: Synset('break.n.02') an unexpected piece of good luck\n",
    "rate 1 data: [['mother', 'flee', 'home', 'state', 'pursue', 'marshals', 'get', 'couch', '’', 'cell', 'phone', 'use', 'order', 'domino', '’', 'pizza'], ['unexpected', 'piece', 'good', 'luck', 'finally', 'get', 'big', 'break']]`\n",
    "\n",
    "**It must be Synset('respite.n.02'), but my def implementation was closer than other, however it chose the meaning just because there was no best candidate, and first meaning was selected.**\n",
    "\n",
    "### 5\n",
    "`Tobey's mother, Joyce Mitchell, helped Richard Matt and David Sweat break out of New York's maximum security Clinton Correctional Facility last year.\n",
    "Lesk NLTK: Synset('unwrap.v.02') make known to the public information that was previously known only to a few people or that was meant to be kept a secret\n",
    "Tan Orig: Synset('break.v.09') force out or release suddenly and often violently something pent up\n",
    "Tan Simple: Synset('break.v.27') come forth or begin from a state of latency\n",
    "Tan Cos: Synset('break.v.51') find the solution or key to\n",
    "Tan Adapt: Synset('break.v.27') come forth or begin from a state of latency\n",
    "Custom: Synset('interrupt.v.04') terminate\n",
    "rate 0 data: [['tobeys', 'joyce', 'mitchell', 'help', 'richard', 'matt', 'david', 'sweat', 'new', 'yorks', 'maximum', 'security', 'clinton', 'correctional', 'facility', 'last', 'year'], ['terminate']]\n",
    "Custom+Examples: Synset('break.v.07') move away or escape suddenly\n",
    "rate 1 data: [['tobeys', 'joyce', 'mitchell', 'help', 'richard', 'matt', 'david', 'sweat', 'new', 'yorks', 'maximum', 'security', 'clinton', 'correctional', 'facility', 'last', 'year'], ['move', 'away', 'escape', 'suddenly', 'horse', 'break', 'stable', 'inmate', 'break', 'jail', 'nobody', 'break', 'prison', 'high', 'security']]`\n",
    "\n",
    "**The only success is on the side of my def+example implemenation, it did work, because of \"security\", which actually make sense.   \n",
    "Tan Original looks close, but actually it is refelexive meaning, that is wrong here.**\n",
    "\n",
    "### 6\n",
    "`Ravens at Cowboys: Dak Prescott has the reins, but Ezekiel Elliott will have to find a way to break through against the Ravens' top-ranked rushing defense.\n",
    "Lesk NLTK: Synset('unwrap.v.02') make known to the public information that was previously known only to a few people or that was meant to be kept a secret\n",
    "Tan Orig: Synset('fault.n.04') (geology) a crack in the earth's crust resulting from the displacement of one side with respect to the other\n",
    "Tan Simple: Synset('separate.v.08') discontinue an association or relation; go different ways\n",
    "Tan Cos: Synset('break_dance.v.01') do a break dance\n",
    "Tan Adapt: Synset('separate.v.08') discontinue an association or relation; go different ways\n",
    "Custom: Synset('separate.v.08') discontinue an association or relation; go different ways\n",
    "rate 1 data: [['ravens', 'cowboys', 'dak', 'prescott', 'rein', 'ezekiel', 'elliott', 'find', 'way', 'ravens', 'top-ranked', 'rushing', 'defense'], ['discontinue', 'association', 'relation', 'go', 'different', 'way']]\n",
    "Custom+Examples: Synset('fail.v.04') stop operating or functioning\n",
    "rate 1 data: [['ravens', 'cowboys', 'dak', 'prescott', 'rein', 'ezekiel', 'elliott', 'find', 'way', 'ravens', 'top-ranked', 'rushing', 'defense'], ['stop', 'operating', 'functioning', 'engine', 'finally', 'go', 'car', 'die', 'road', 'bus', 'travel', 'break', 'way', 'town', 'coffee', 'maker', 'break', 'engine', 'fail', 'way', 'town', 'eyesight', 'go', 'accident']]`\n",
    "\n",
    "**The right match is Synset('break.v.45') 'pierce or penetrate'.   \n",
    "Everything fails.  \n",
    "My implemetation of def only prefers Synset('separate.v.08'), because of \"way\".   \n",
    "One with examples selected ('fail.v.04'), because of \"way\", but as soon as in this iteration it became upper than Synset('separate.v.08'), it was chosen.**\n",
    "\n",
    "### 7\n",
    "`The Argentine then conjured up a pair of break points at 4-3 with a miscued forehand from Cilic paving the way for Del Potro to complete a stunning fightback -- his first ever from two sets down -- in four hours and 53 minutes.\n",
    "Lesk NLTK: Synset('rupture.n.02') a personal or social separation (as between opposing factions)\n",
    "Tan Orig: Synset('fault.n.04') (geology) a crack in the earth's crust resulting from the displacement of one side with respect to the other\n",
    "Tan Simple: Synset('break.n.12') (tennis) a score consisting of winning a game when your opponent was serving\n",
    "Tan Cos: Synset('break.n.12') (tennis) a score consisting of winning a game when your opponent was serving\n",
    "Tan Adapt: Synset('break.n.12') (tennis) a score consisting of winning a game when your opponent was serving\n",
    "Custom: Synset('interruption.n.02') some abrupt occurrence that interrupts an ongoing activity\n",
    "rate 0 data: [['argentine', 'conjure', 'pair', 'point', '4-3', 'miscued', 'forehand', 'cilic', 'pave', 'way', 'del', 'potro', 'complete', 'stunning', 'fightback', 'first', 'ever', 'set', 'hour', 'minute'], ['abrupt', 'occurrence', 'interrupt', 'ongoing', 'activity']]\n",
    "Custom+Examples: Synset('break.n.12') (tennis) a score consisting of winning a game when your opponent was serving\n",
    "rate 1 data: [['argentine', 'conjure', 'pair', 'point', '4-3', 'miscued', 'forehand', 'cilic', 'pave', 'way', 'del', 'potro', 'complete', 'stunning', 'fightback', 'first', 'ever', 'set', 'hour', 'minute'], ['tennis', 'score', 'consisting', 'win', 'game', 'opponent', 'serve', 'break', 'second', 'set']]`\n",
    "\n",
    "**All Tan's Lesks (except original one) succeed.   \n",
    "My def implemenatation fails, but def+example wins because of \"set\" in example.  \n",
    "However, generally it could be treated as idiom \"break point\", not a separate word \"break\".**\n",
    "\n",
    "### 8\n",
    "`Al-Yousef said Fastaqim arrested one of its commanders during battle preparations in Aleppo after a rebel offensive launched last week to break the government's siege of the city's rebel neighborhoods.\n",
    "Lesk NLTK: Synset('unwrap.v.02') make known to the public information that was previously known only to a few people or that was meant to be kept a secret\n",
    "Tan Orig: Synset('fault.n.04') (geology) a crack in the earth's crust resulting from the displacement of one side with respect to the other\n",
    "Tan Simple: Synset('break_in.v.01') enter someone's (virtual or real) property in an unauthorized manner, usually with the intent to steal or commit a violent act\n",
    "Tan Cos: Synset('violate.v.01') fail to agree with; be in violation of; as of rules or patterns\n",
    "Tan Adapt: Synset('break_in.v.01') enter someone's (virtual or real) property in an unauthorized manner, usually with the intent to steal or commit a violent act\n",
    "Custom: Synset('interrupt.v.04') terminate\n",
    "rate 0 data: [['al-yousef', 'say', 'fastaqim', 'arrest', 'commander', 'battle', 'preparation', 'aleppo', 'rebel', 'offensive', 'launch', 'last', 'week', 'government', 'siege', 'city', 'rebel', 'neighborhood'], ['terminate']]\n",
    "Custom+Examples: Synset('break_in.v.01') enter someone's (virtual or real) property in an unauthorized manner, usually with the intent to steal or commit a violent act\n",
    "rate 1 data: [['al-yousef', 'say', 'fastaqim', 'arrest', 'commander', 'battle', 'preparation', 'aleppo', 'rebel', 'offensive', 'launch', 'last', 'week', 'government', 'siege', 'city', 'rebel', 'neighborhood'], ['enter', 'someone', 'virtual', 'real', 'property', 'unauthorized', 'manner', 'usually', 'intent', 'steal', 'commit', 'violent', 'act', 'someone', 'break', 'vacation', 'break', 'car', 'steal', 'radio', 'break', 'account', 'last', 'night']]`\n",
    "\n",
    "\n",
    "**Again, Synset('break.v.45') 'pierce or penetrate' has to be chosen. And also, I have to note that the differences between meanings Synset('break.v.45') and Synset('break_in.v.01') are not so clear.    \n",
    "If we treat Synset('break_in.v.01') as a good enough answer, Tan's Simple and Adaptive had luck.   \n",
    "Also my implemenatation of def+examples did, but, as we can see, it is only because of \"last\" in examples, which is meaningless.**\n",
    "\n",
    "### 9\n",
    "`A few hours after taking a break from promotional duties with Iris, Redmayne chatted in a downtown Manhattan hotel about his headlong dive into Rowling's empire, the film's multicultural message and just how many movies he's gotten himself into.\n",
    "Lesk NLTK: Synset('rupture.n.02') a personal or social separation (as between opposing factions)\n",
    "Tan Orig: Synset('fault.n.04') (geology) a crack in the earth's crust resulting from the displacement of one side with respect to the other\n",
    "Tan Simple: Synset('respite.n.02') a pause from doing something (as work)\n",
    "Tan Cos: Synset('respite.n.02') a pause from doing something (as work)\n",
    "Tan Adapt: Synset('respite.n.02') a pause from doing something (as work)\n",
    "Custom: Synset('interruption.n.02') some abrupt occurrence that interrupts an ongoing activity\n",
    "rate 0 data: [['hour', 'take', 'promotional', 'duty', 'iris', 'redmayne', 'chat', 'downtown', 'manhattan', 'hotel', 'headlong', 'dive', 'rowlings', 'empire', 'film', 'multicultural', 'message', 'many', 'movie', 'get'], ['abrupt', 'occurrence', 'interrupt', 'ongoing', 'activity']]\n",
    "Custom+Examples: Synset('break.n.02') an unexpected piece of good luck\n",
    "rate 1 data: [['hour', 'take', 'promotional', 'duty', 'iris', 'redmayne', 'chat', 'downtown', 'manhattan', 'hotel', 'headlong', 'dive', 'rowlings', 'empire', 'film', 'multicultural', 'message', 'many', 'movie', 'get'], ['unexpected', 'piece', 'good', 'luck', 'finally', 'get', 'big', 'break']]`\n",
    "\n",
    "**Again, Tan's methods were succesful (Synset('respite.n.02')).  \n",
    "My def implementation just chose first item, which is wrong.  \n",
    "My def+example chose Synset('break.n.02'), because of \"get\" in the examples field, when \"he's gotten himself into...\" has no relation to it in any meaningfull way.**\n",
    "\n",
    "### 10\n",
    "`If that fails then it's time to break out your nut tool , which are also made to use on stuck cams as well as nuts.\n",
    "Lesk NLTK: Synset('unwrap.v.02') make known to the public information that was previously known only to a few people or that was meant to be kept a secret\n",
    "Tan Orig: Synset('open_frame.n.01') any frame in which a bowler fails to make a strike or spare\n",
    "Tan Simple: Synset('violate.v.01') fail to agree with; be in violation of; as of rules or patterns\n",
    "Tan Cos: Synset('break_in.v.06') make submissive, obedient, or useful\n",
    "Tan Adapt: Synset('violate.v.01') fail to agree with; be in violation of; as of rules or patterns\n",
    "Custom: Synset('break_in.v.06') make submissive, obedient, or useful\n",
    "rate 1 data: [['fail', 'time', 'nut', 'tool', 'also', 'make', 'use', 'stuck', 'cam', 'well', 'nut'], ['make', 'submissive', 'obedient', 'useful']]\n",
    "Custom+Examples: Synset('break_in.v.06') make submissive, obedient, or useful\n",
    "rate 1 data: [['fail', 'time', 'nut', 'tool', 'also', 'make', 'use', 'stuck', 'cam', 'well', 'nut'], ['make', 'submissive', 'obedient', 'useful', 'horse', 'tough', 'break', 'break', 'new', 'intern']]`\n",
    "\n",
    "**Actually, it's \"break out\", phrasal verb. It's close to Synset('break.v.46') 'be released or become known'. Also I note that Synset('break.v.46') seems to be really close to Synset('unwrap.v.02'), which is a problem of Wordnet.\n",
    "My implemenation chose Synset('break_in.v.06'), because of \"make\" for definition and as well \"make\" for Synset('break_in.v.06'), repeating the mechanism of \\#6.**\n",
    "\n",
    "----------------------------------------------------------------------------------------------------\n",
    "\n",
    "​"
   ]
  },
  {
   "cell_type": "markdown",
   "metadata": {},
   "source": [
    "## Conslusions"
   ]
  },
  {
   "cell_type": "markdown",
   "metadata": {},
   "source": [
    "The best result were shown by sophisticated methods by Liling Tan. Actually, he also co-authored [NLTK WSD](https://www.nltk.org/_modules/nltk/wsd.html) module of NLTK toolset, along with Dmitrijs Milajevs, but for some reasons, with our dataset, Lesk algorithm from NLTK worked worse than any other alternative, even mine.\n",
    "\n",
    "Thus, in this light, my implemenatations look not so bad, however, as we can see, sometimes good choice was just meaningless coincedence.\n",
    "\n",
    "And the best score (by Tan's algorithms) was just 3 of 10. We should keep in mind that it's just one sample from the corpus, and I am not sure we could get even the same score consistenly on other samples.\n",
    "\n",
    "Also, it's worth to mention, that WordNet as itself is a bad source (BTW as a project it was discontinued years ago). Some meanings seems to be the same one, but separated for some reasons. I could conclude the task of aligning token/sentence to WordNet synset is not really reasonable. We rather should relate them to entities we are going (and are able) to use. For example, if we implement search engine, it makes sense to produce embeddings which are based on our corpus and then to relate new texts (tokens, sentences) to our embeddings, than to weird WordNet synsets.\n",
    "\n",
    "So:\n",
    "1. Tan is cool, but any algorhitmic implementation is not so good for production.\n",
    "2. WordNet is bad, don't use it.\n",
    "3. ML seems to be only possible way out to deal with WSD, at least, without much pain."
   ]
  },
  {
   "cell_type": "code",
   "execution_count": null,
   "metadata": {},
   "outputs": [],
   "source": []
  }
 ],
 "metadata": {
  "kernelspec": {
   "display_name": "Python 3",
   "language": "python",
   "name": "python3"
  },
  "language_info": {
   "codemirror_mode": {
    "name": "ipython",
    "version": 3
   },
   "file_extension": ".py",
   "mimetype": "text/x-python",
   "name": "python",
   "nbconvert_exporter": "python",
   "pygments_lexer": "ipython3",
   "version": "3.6.3"
  }
 },
 "nbformat": 4,
 "nbformat_minor": 2
}
